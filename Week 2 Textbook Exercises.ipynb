{
 "cells": [
  {
   "cell_type": "markdown",
   "metadata": {},
   "source": [
    "## Exercise 3.1.1"
   ]
  },
  {
   "cell_type": "code",
   "execution_count": 9,
   "metadata": {},
   "outputs": [
    {
     "data": {
      "text/plain": [
       "2.5"
      ]
     },
     "execution_count": 9,
     "metadata": {},
     "output_type": "execute_result"
    }
   ],
   "source": [
    "from collections import Counter\n",
    "# Jaccard similarity measure between input iterables, allowing repeated elements\n",
    "def jaccard_repeats(a, b):\n",
    "    _a = Counter(a)\n",
    "    _b = Counter(b)\n",
    "    c = (_a - _b) + (_b - _a)\n",
    "    n = sum(c.values())\n",
    "    return n/(len(a) + len(b) - n)\n",
    "\n",
    "list1 = [1, 2, 3, 4]\n",
    "list2 = [2, 3, 5, 7]\n",
    "list3 = [2, 4, 6]   \n",
    "\n",
    "jaccard_repeats(list1, list3)      \n",
    "\n",
    "jaccard_repeats(list1, list2) \n",
    "\n",
    "jaccard_repeats(list2, list3)  "
   ]
  },
  {
   "cell_type": "markdown",
   "metadata": {},
   "source": [
    "## Exercise 3.2.1"
   ]
  },
  {
   "cell_type": "code",
   "execution_count": 12,
   "metadata": {},
   "outputs": [],
   "source": [
    "import numpy as np\n",
    "import pandas as pd\n",
    "import re\n",
    "import time"
   ]
  },
  {
   "cell_type": "code",
   "execution_count": 13,
   "metadata": {},
   "outputs": [],
   "source": [
    "def preprocess(text):\n",
    "    text = re.sub(r'[^\\w\\s]','',text)\n",
    "    tokens = text.lower()\n",
    "    tokens = tokens.split()\n",
    "    return tokens"
   ]
  },
  {
   "cell_type": "code",
   "execution_count": 14,
   "metadata": {},
   "outputs": [
    {
     "name": "stdout",
     "output_type": "stream",
     "text": [
      "The shingles (tokens) are: ['the', 'most', 'effective', 'way', 'to', 'represent', 'documents', 'as', 'sets', 'for', 'the', 'purpose', 'of', 'identifying', 'lexically', 'similar', 'documents', 'is', 'to', 'construct', 'from', 'the', 'document', 'a', 'set', 'of', 'short', 'strings', 'that', 'appear', 'within', 'it']\n"
     ]
    }
   ],
   "source": [
    "text = 'The most effective way to represent documents as sets, for the purpose of identifying lexically similar documents is to construct from the document a set of short strings that appear within it'\n",
    "print('The shingles (tokens) are:', preprocess(text))"
   ]
  },
  {
   "cell_type": "markdown",
   "metadata": {},
   "source": [
    "## Exercise 3.3.3"
   ]
  },
  {
   "cell_type": "code",
   "execution_count": 19,
   "metadata": {},
   "outputs": [
    {
     "name": "stdout",
     "output_type": "stream",
     "text": [
      "[[5, 1, 1, 1], [2, 2, 2, 2], [0, 1, 4, 0]]\n"
     ]
    }
   ],
   "source": [
    "import sys\n",
    "\n",
    "def h1(x):\n",
    "        return (2*x+1)%6\n",
    "def h2(x):\n",
    "        return (3*x+2)%6\n",
    "def h3(x):\n",
    "        return (5*x+2)%6\n",
    "\n",
    "def minhash(data, hashfuncs):\n",
    "\n",
    "    rows, cols, sigrows = len(data), len(data[0]), len(hashfuncs)\n",
    "\n",
    "    # initialize signature matrix with maxsize\n",
    "    sigmatrix = []\n",
    "    for i in range(sigrows):\n",
    "        sigmatrix.append([sys.maxsize] * cols)\n",
    "\n",
    "    for r in range(rows):\n",
    "        hashvalue = list(map(lambda x: x(r), hashfuncs))\n",
    "        # if data != 0 and signature > hash value, replace signature with hash value\n",
    "        for c in range(cols):\n",
    "            if data[r][c] == 0:\n",
    "                continue\n",
    "            for i in range(sigrows):\n",
    "                if sigmatrix[i][c] > hashvalue[i]:\n",
    "                    sigmatrix[i][c] = hashvalue[i]\n",
    "\n",
    "    return sigmatrix\n",
    "\n",
    "if __name__ == '__main__':\n",
    "\n",
    "    data = [[0, 1, 0, 1],\n",
    "            [0, 1, 0, 0],\n",
    "            [1, 0, 0, 1],\n",
    "            [0, 0, 1, 0],\n",
    "            [0, 0, 1, 1],\n",
    "            [1, 0, 0, 0]]\n",
    "\n",
    "    # print signature matrix\n",
    "    print(minhash(data, [h1, h2, h3]))"
   ]
  },
  {
   "cell_type": "markdown",
   "metadata": {},
   "source": [
    "### Part B"
   ]
  },
  {
   "cell_type": "code",
   "execution_count": 31,
   "metadata": {},
   "outputs": [],
   "source": [
    "from itertools import permutations"
   ]
  },
  {
   "cell_type": "code",
   "execution_count": 37,
   "metadata": {},
   "outputs": [
    {
     "name": "stdout",
     "output_type": "stream",
     "text": [
      "(5, 2, 0)\n",
      "(5, 2, 1)\n",
      "(5, 2, 4)\n",
      "(5, 2, 0)\n",
      "(5, 2, 0)\n",
      "(5, 2, 1)\n",
      "(5, 2, 4)\n",
      "(5, 2, 0)\n",
      "(5, 2, 0)\n",
      "(5, 2, 1)\n",
      "(5, 2, 4)\n",
      "(5, 2, 0)\n",
      "(5, 2, 0)\n",
      "(5, 2, 1)\n",
      "(5, 2, 4)\n",
      "(5, 2, 0)\n",
      "(1, 2, 0)\n",
      "(1, 2, 1)\n",
      "(1, 2, 4)\n",
      "(1, 2, 0)\n",
      "(1, 2, 0)\n",
      "(1, 2, 1)\n",
      "(1, 2, 4)\n",
      "(1, 2, 0)\n",
      "(1, 2, 0)\n",
      "(1, 2, 1)\n",
      "(1, 2, 4)\n",
      "(1, 2, 0)\n",
      "(1, 2, 0)\n",
      "(1, 2, 1)\n",
      "(1, 2, 4)\n",
      "(1, 2, 0)\n",
      "(1, 2, 0)\n",
      "(1, 2, 1)\n",
      "(1, 2, 4)\n",
      "(1, 2, 0)\n",
      "(1, 2, 0)\n",
      "(1, 2, 1)\n",
      "(1, 2, 4)\n",
      "(1, 2, 0)\n",
      "(1, 2, 0)\n",
      "(1, 2, 1)\n",
      "(1, 2, 4)\n",
      "(1, 2, 0)\n",
      "(1, 2, 0)\n",
      "(1, 2, 1)\n",
      "(1, 2, 4)\n",
      "(1, 2, 0)\n",
      "(1, 2, 0)\n",
      "(1, 2, 1)\n",
      "(1, 2, 4)\n",
      "(1, 2, 0)\n",
      "(1, 2, 0)\n",
      "(1, 2, 1)\n",
      "(1, 2, 4)\n",
      "(1, 2, 0)\n",
      "(1, 2, 0)\n",
      "(1, 2, 1)\n",
      "(1, 2, 4)\n",
      "(1, 2, 0)\n",
      "(1, 2, 0)\n",
      "(1, 2, 1)\n",
      "(1, 2, 4)\n",
      "(1, 2, 0)\n"
     ]
    }
   ],
   "source": [
    "import itertools\n",
    "s=[ [5, 1, 1, 1], [2, 2, 2, 2], [0, 1, 4, 0] ]\n",
    "for l in list(itertools.product(*s)):\n",
    "    print(l)"
   ]
  },
  {
   "cell_type": "markdown",
   "metadata": {},
   "source": [
    "## h3 is the true permutation"
   ]
  },
  {
   "cell_type": "markdown",
   "metadata": {},
   "source": [
    "## Part C"
   ]
  },
  {
   "cell_type": "code",
   "execution_count": 43,
   "metadata": {},
   "outputs": [],
   "source": [
    "from sklearn.metrics import jaccard_score"
   ]
  },
  {
   "cell_type": "code",
   "execution_count": 53,
   "metadata": {},
   "outputs": [
    {
     "name": "stdout",
     "output_type": "stream",
     "text": [
      "Jaccard similarity Rows 1 and 2: 0.500\n"
     ]
    }
   ],
   "source": [
    "from sklearn.metrics import jaccard_score\n",
    "A = [0, 1, 0, 1]\n",
    "B = [0, 1, 0, 0]\n",
    "C = [0, 1, 0, 0]\n",
    "D = [1, 0, 0, 1]\n",
    "E = [0, 0, 1, 0]\n",
    "F = [0, 0, 1, 1]\n",
    "G = [1, 0, 0, 0]\n",
    "jacc = jaccard_score(A,B)\n",
    "print(\"Jaccard similarity Rows 1 and 2: %.3f\" % jacc)"
   ]
  },
  {
   "cell_type": "code",
   "execution_count": 54,
   "metadata": {},
   "outputs": [
    {
     "name": "stdout",
     "output_type": "stream",
     "text": [
      "Jaccard similarity Rows 1 and 3: 0.500\n"
     ]
    }
   ],
   "source": [
    "jacc2 = jaccard_score(A,C)\n",
    "print(\"Jaccard similarity Rows 1 and 3: %.3f\" % jacc2)"
   ]
  },
  {
   "cell_type": "code",
   "execution_count": 56,
   "metadata": {},
   "outputs": [
    {
     "name": "stdout",
     "output_type": "stream",
     "text": [
      "Jaccard similarity Rows 1 and 4: 0.333\n"
     ]
    }
   ],
   "source": [
    "jacc3 = jaccard_score(A,D)\n",
    "print(\"Jaccard similarity Rows 1 and 4: %.3f\" % jacc3)"
   ]
  },
  {
   "cell_type": "code",
   "execution_count": 57,
   "metadata": {},
   "outputs": [
    {
     "name": "stdout",
     "output_type": "stream",
     "text": [
      "Jaccard similarity Rows 2 and 3: 1.000\n"
     ]
    }
   ],
   "source": [
    "jacc4 = jaccard_score(B,C)\n",
    "print(\"Jaccard similarity Rows 2 and 3: %.3f\" % jacc4)"
   ]
  },
  {
   "cell_type": "code",
   "execution_count": 58,
   "metadata": {},
   "outputs": [
    {
     "name": "stdout",
     "output_type": "stream",
     "text": [
      "Jaccard similarity Rows 2 and 4: 0.000\n"
     ]
    }
   ],
   "source": [
    "jacc5 = jaccard_score(B,D)\n",
    "print(\"Jaccard similarity Rows 2 and 4: %.3f\" % jacc5)"
   ]
  },
  {
   "cell_type": "code",
   "execution_count": 59,
   "metadata": {},
   "outputs": [
    {
     "name": "stdout",
     "output_type": "stream",
     "text": [
      "Jaccard similarity Rows 3 and 4: 0.000\n"
     ]
    }
   ],
   "source": [
    "jacc6 = jaccard_score(C,D)\n",
    "print(\"Jaccard similarity Rows 3 and 4: %.3f\" % jacc6)"
   ]
  },
  {
   "cell_type": "markdown",
   "metadata": {},
   "source": [
    "The estimated Jaccard similarities are not all close to the actuals."
   ]
  },
  {
   "cell_type": "markdown",
   "metadata": {},
   "source": [
    "## Exercise 3.4.1"
   ]
  },
  {
   "cell_type": "code",
   "execution_count": 1,
   "metadata": {},
   "outputs": [],
   "source": [
    "from operator import itemgetter\n",
    "\n",
    "import numpy as np\n",
    "import random as rnd"
   ]
  },
  {
   "cell_type": "code",
   "execution_count": 9,
   "metadata": {},
   "outputs": [],
   "source": [
    "def apply_LSH_technique(SIG,t,bands=4,rows=3):\n",
    "    if bands * rows != len(SIG):\n",
    "        raise 'bands*rows must be equals to n :: bands*rows = n !!!'\n",
    "    #print SIG\n",
    "    #print\n",
    "\n",
    "    array_buckets = initialize_array_bucket(bands)\n",
    "    #print array_buckets\n",
    "\n",
    "    hash_funcs = generate_hash_functions(bands)\n",
    "\n",
    "\n",
    "    candidates = {}\n",
    "    \n",
    "    i = 0\n",
    "    for b in xrange(bands):\n",
    "        buckets = array_buckets[b]        \n",
    "        band = SIG[i:i+rows,:]\n",
    "        for col in xrange(band.shape[1]):\n",
    "            #print band[:,col]\n",
    "\n",
    "            #randomly generate\n",
    "            #key = 0\n",
    "            #for row in xrange(rows):\n",
    "            #    func = hash_funcs[row]\n",
    "            #    key += hash_minHash(band[row,col],func[0],func[1],len(buckets))\n",
    "            #key = int((key+sum(band[:,col])) % len(buckets))\n",
    "            #randomly generate\n",
    "            #func = hash_funcs[b]\n",
    "\n",
    "            #key = int(hash_minHash(sum(band[:,col]),func[0],func[1],len(buckets)))\n",
    "            #print 'key->',key\n",
    "            \n",
    "            key = int(sum(band[:,col]) % len(buckets))\n",
    "            \n",
    "            buckets[key].append(col)\n",
    "        i = i+rows\n",
    "\n",
    "        #print 'buckets #',b,buckets\n",
    "        for item in buckets:\n",
    "            if len(item) > 1:\n",
    "                pair = (item[0], item[1])\n",
    "                if pair not in candidates:\n",
    "                    A = SIG[:,item[0]]\n",
    "                    B = SIG[:,item[1]]\n",
    "                    similarity = cosine_distance(A,B)\n",
    "                    if similarity >= t:\n",
    "                        candidates[pair] = similarity\n",
    "\n",
    "\n",
    "    #print \n",
    "    sort = sorted(candidates.items(),key=itemgetter(1), reverse=True)\n",
    "    #print sort\n",
    "    #print \n",
    "    return candidates,sort\n"
   ]
  },
  {
   "cell_type": "code",
   "execution_count": 7,
   "metadata": {},
   "outputs": [
    {
     "ename": "TypeError",
     "evalue": "can't multiply sequence by non-int of type 'list'",
     "output_type": "error",
     "traceback": [
      "\u001b[1;31m---------------------------------------------------------------------------\u001b[0m",
      "\u001b[1;31mTypeError\u001b[0m                                 Traceback (most recent call last)",
      "\u001b[1;32m<ipython-input-7-68703370c7e1>\u001b[0m in \u001b[0;36m<module>\u001b[1;34m\u001b[0m\n\u001b[0;32m     30\u001b[0m \u001b[1;33m\u001b[0m\u001b[0m\n\u001b[0;32m     31\u001b[0m    \u001b[1;31m# print signature matrix\u001b[0m\u001b[1;33m\u001b[0m\u001b[1;33m\u001b[0m\u001b[1;33m\u001b[0m\u001b[0m\n\u001b[1;32m---> 32\u001b[1;33m     \u001b[0mprint\u001b[0m\u001b[1;33m(\u001b[0m\u001b[0mminhash\u001b[0m\u001b[1;33m(\u001b[0m\u001b[0mdata\u001b[0m\u001b[1;33m,\u001b[0m\u001b[1;33m[\u001b[0m\u001b[0mh1\u001b[0m\u001b[1;33m]\u001b[0m\u001b[1;33m)\u001b[0m\u001b[1;33m)\u001b[0m\u001b[1;33m\u001b[0m\u001b[1;33m\u001b[0m\u001b[0m\n\u001b[0m",
      "\u001b[1;32m<ipython-input-7-68703370c7e1>\u001b[0m in \u001b[0;36mminhash\u001b[1;34m(data, hashfuncs)\u001b[0m\n\u001b[0;32m     14\u001b[0m \u001b[1;33m\u001b[0m\u001b[0m\n\u001b[0;32m     15\u001b[0m     \u001b[1;32mfor\u001b[0m \u001b[0mr\u001b[0m \u001b[1;32min\u001b[0m \u001b[0mrange\u001b[0m\u001b[1;33m(\u001b[0m\u001b[0mrows\u001b[0m\u001b[1;33m)\u001b[0m\u001b[1;33m:\u001b[0m\u001b[1;33m\u001b[0m\u001b[1;33m\u001b[0m\u001b[0m\n\u001b[1;32m---> 16\u001b[1;33m         \u001b[0mhashvalue\u001b[0m \u001b[1;33m=\u001b[0m \u001b[0mlist\u001b[0m\u001b[1;33m(\u001b[0m\u001b[0mmap\u001b[0m\u001b[1;33m(\u001b[0m\u001b[1;32mlambda\u001b[0m \u001b[0mx\u001b[0m\u001b[1;33m:\u001b[0m \u001b[0mx\u001b[0m\u001b[1;33m(\u001b[0m\u001b[0mr\u001b[0m\u001b[1;33m)\u001b[0m\u001b[1;33m,\u001b[0m \u001b[0mhashfuncs\u001b[0m\u001b[1;33m)\u001b[0m\u001b[1;33m)\u001b[0m\u001b[1;33m\u001b[0m\u001b[1;33m\u001b[0m\u001b[0m\n\u001b[0m\u001b[0;32m     17\u001b[0m         \u001b[1;31m# if data != 0 and signature > hash value, replace signature with hash value\u001b[0m\u001b[1;33m\u001b[0m\u001b[1;33m\u001b[0m\u001b[1;33m\u001b[0m\u001b[0m\n\u001b[0;32m     18\u001b[0m         \u001b[1;32mfor\u001b[0m \u001b[0mc\u001b[0m \u001b[1;32min\u001b[0m \u001b[0mrange\u001b[0m\u001b[1;33m(\u001b[0m\u001b[0mcols\u001b[0m\u001b[1;33m)\u001b[0m\u001b[1;33m:\u001b[0m\u001b[1;33m\u001b[0m\u001b[1;33m\u001b[0m\u001b[0m\n",
      "\u001b[1;32m<ipython-input-7-68703370c7e1>\u001b[0m in \u001b[0;36m<lambda>\u001b[1;34m(x)\u001b[0m\n\u001b[0;32m     14\u001b[0m \u001b[1;33m\u001b[0m\u001b[0m\n\u001b[0;32m     15\u001b[0m     \u001b[1;32mfor\u001b[0m \u001b[0mr\u001b[0m \u001b[1;32min\u001b[0m \u001b[0mrange\u001b[0m\u001b[1;33m(\u001b[0m\u001b[0mrows\u001b[0m\u001b[1;33m)\u001b[0m\u001b[1;33m:\u001b[0m\u001b[1;33m\u001b[0m\u001b[1;33m\u001b[0m\u001b[0m\n\u001b[1;32m---> 16\u001b[1;33m         \u001b[0mhashvalue\u001b[0m \u001b[1;33m=\u001b[0m \u001b[0mlist\u001b[0m\u001b[1;33m(\u001b[0m\u001b[0mmap\u001b[0m\u001b[1;33m(\u001b[0m\u001b[1;32mlambda\u001b[0m \u001b[0mx\u001b[0m\u001b[1;33m:\u001b[0m \u001b[0mx\u001b[0m\u001b[1;33m(\u001b[0m\u001b[0mr\u001b[0m\u001b[1;33m)\u001b[0m\u001b[1;33m,\u001b[0m \u001b[0mhashfuncs\u001b[0m\u001b[1;33m)\u001b[0m\u001b[1;33m)\u001b[0m\u001b[1;33m\u001b[0m\u001b[1;33m\u001b[0m\u001b[0m\n\u001b[0m\u001b[0;32m     17\u001b[0m         \u001b[1;31m# if data != 0 and signature > hash value, replace signature with hash value\u001b[0m\u001b[1;33m\u001b[0m\u001b[1;33m\u001b[0m\u001b[1;33m\u001b[0m\u001b[0m\n\u001b[0;32m     18\u001b[0m         \u001b[1;32mfor\u001b[0m \u001b[0mc\u001b[0m \u001b[1;32min\u001b[0m \u001b[0mrange\u001b[0m\u001b[1;33m(\u001b[0m\u001b[0mcols\u001b[0m\u001b[1;33m)\u001b[0m\u001b[1;33m:\u001b[0m\u001b[1;33m\u001b[0m\u001b[1;33m\u001b[0m\u001b[0m\n",
      "\u001b[1;32m<ipython-input-7-68703370c7e1>\u001b[0m in \u001b[0;36mh1\u001b[1;34m(x)\u001b[0m\n\u001b[0;32m      2\u001b[0m \u001b[1;33m\u001b[0m\u001b[0m\n\u001b[0;32m      3\u001b[0m \u001b[1;32mdef\u001b[0m \u001b[0mh1\u001b[0m\u001b[1;33m(\u001b[0m\u001b[0mx\u001b[0m\u001b[1;33m)\u001b[0m\u001b[1;33m:\u001b[0m\u001b[1;33m\u001b[0m\u001b[1;33m\u001b[0m\u001b[0m\n\u001b[1;32m----> 4\u001b[1;33m         \u001b[1;32mreturn\u001b[0m \u001b[1;36m1\u001b[0m\u001b[1;33m-\u001b[0m\u001b[1;33m(\u001b[0m\u001b[1;36m1\u001b[0m\u001b[1;33m-\u001b[0m\u001b[0ms\u001b[0m\u001b[1;33m*\u001b[0m\u001b[0mr\u001b[0m\u001b[1;33m)\u001b[0m\u001b[1;33m*\u001b[0m\u001b[0mb\u001b[0m\u001b[1;33m\u001b[0m\u001b[1;33m\u001b[0m\u001b[0m\n\u001b[0m\u001b[0;32m      5\u001b[0m \u001b[1;33m\u001b[0m\u001b[0m\n\u001b[0;32m      6\u001b[0m \u001b[1;32mdef\u001b[0m \u001b[0mminhash\u001b[0m\u001b[1;33m(\u001b[0m\u001b[0mdata\u001b[0m\u001b[1;33m,\u001b[0m \u001b[0mhashfuncs\u001b[0m\u001b[1;33m)\u001b[0m\u001b[1;33m:\u001b[0m\u001b[1;33m\u001b[0m\u001b[1;33m\u001b[0m\u001b[0m\n",
      "\u001b[1;31mTypeError\u001b[0m: can't multiply sequence by non-int of type 'list'"
     ]
    }
   ],
   "source": [
    "import sys\n",
    "\n",
    "def h1(x):\n",
    "        return 1-(1-s*r)*b\n",
    "        \n",
    "def minhash(data, hashfuncs):\n",
    "\n",
    "    rows, cols, sigrows = len(data), len(data[0]), len(hashfuncs)\n",
    "\n",
    "    # initialize signature matrix with maxsize\n",
    "    sigmatrix = []\n",
    "    for i in range(sigrows):\n",
    "        sigmatrix.append([sys.maxsize] * cols)\n",
    "\n",
    "    for r in range(rows):\n",
    "        hashvalue = list(map(lambda x: x(r), hashfuncs))\n",
    "        # if data != 0 and signature > hash value, replace signature with hash value\n",
    "        for c in range(cols):\n",
    "            if data[r][c] == 0:\n",
    "                continue\n",
    "            for i in range(sigrows):\n",
    "                if sigmatrix[i][c] > hashvalue[i]:\n",
    "                    sigmatrix[i][c] = hashvalue[i]\n",
    "\n",
    "    return sigmatrix\n",
    "\n",
    "if __name__ == '__main__':\n",
    "\n",
    "    data = [(3,10), (6,20), (5,50)]\n",
    "\n",
    "   # print signature matrix\n",
    "    print(minhash(data,[h1]))"
   ]
  },
  {
   "cell_type": "code",
   "execution_count": null,
   "metadata": {},
   "outputs": [],
   "source": []
  }
 ],
 "metadata": {
  "kernelspec": {
   "display_name": "Python 3",
   "language": "python",
   "name": "python3"
  },
  "language_info": {
   "codemirror_mode": {
    "name": "ipython",
    "version": 3
   },
   "file_extension": ".py",
   "mimetype": "text/x-python",
   "name": "python",
   "nbconvert_exporter": "python",
   "pygments_lexer": "ipython3",
   "version": "3.7.4"
  }
 },
 "nbformat": 4,
 "nbformat_minor": 2
}
