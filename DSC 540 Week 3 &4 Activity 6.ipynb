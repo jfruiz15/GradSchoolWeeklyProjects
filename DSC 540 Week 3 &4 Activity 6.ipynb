{
 "cells": [
  {
   "cell_type": "markdown",
   "metadata": {},
   "source": [
    "# Exercise 6"
   ]
  },
  {
   "cell_type": "markdown",
   "metadata": {},
   "source": [
    "Insert data into a SQL Lite database – create a table with the following data (Hint: Python for Data Analysis page 191):\n",
    "\n",
    "a. Name, Address, City, State, Zip, Phone Number\n",
    "\n",
    "b. Add at least 10 rows of data and submit your code with a query generating your results.\n"
   ]
  },
  {
   "cell_type": "code",
   "execution_count": 28,
   "metadata": {},
   "outputs": [],
   "source": [
    "import sqlite3\n",
    "import pandas as pd"
   ]
  },
  {
   "cell_type": "code",
   "execution_count": 29,
   "metadata": {},
   "outputs": [],
   "source": [
    "query = \"\"\" CREATE TABLE test (Name VARCHAR(20), Address VARCHAR(20), City VARCHAR(20), State VARCHAR(20), Zip INTEGER, Phone Number INTEGER);\"\"\"\n",
    "\n",
    "con = sqlite3.connect('mydata2.sqlite')\n",
    "con.execute(query)\n",
    "\n",
    "con.commit()"
   ]
  },
  {
   "cell_type": "code",
   "execution_count": 30,
   "metadata": {},
   "outputs": [
    {
     "ename": "ProgrammingError",
     "evalue": "Incorrect number of bindings supplied. The current statement uses 6, and there are 5 supplied.",
     "output_type": "error",
     "traceback": [
      "\u001b[1;31m---------------------------------------------------------------------------\u001b[0m",
      "\u001b[1;31mProgrammingError\u001b[0m                          Traceback (most recent call last)",
      "\u001b[1;32m<ipython-input-30-126b8f1a055d>\u001b[0m in \u001b[0;36m<module>\u001b[1;34m\u001b[0m\n\u001b[0;32m      3\u001b[0m \u001b[0mstmt\u001b[0m \u001b[1;33m=\u001b[0m \u001b[1;34m\"INSERT INTO test VALUES(?, ?, ?, ?, ?, ?)\"\u001b[0m\u001b[1;33m\u001b[0m\u001b[1;33m\u001b[0m\u001b[0m\n\u001b[0;32m      4\u001b[0m \u001b[1;33m\u001b[0m\u001b[0m\n\u001b[1;32m----> 5\u001b[1;33m \u001b[0mcon\u001b[0m\u001b[1;33m.\u001b[0m\u001b[0mexecutemany\u001b[0m\u001b[1;33m(\u001b[0m\u001b[0mstmt\u001b[0m\u001b[1;33m,\u001b[0m \u001b[0mdata\u001b[0m\u001b[1;33m)\u001b[0m\u001b[1;33m\u001b[0m\u001b[1;33m\u001b[0m\u001b[0m\n\u001b[0m",
      "\u001b[1;31mProgrammingError\u001b[0m: Incorrect number of bindings supplied. The current statement uses 6, and there are 5 supplied."
     ]
    }
   ],
   "source": [
    "data = [('Jon Doe', '123 Maple Street', 'Macon', 'GA', '64297', '9049936475'), ('April Jones', '645 Celebration Ave', 'Celebration', 'FL', '34747', '4076751234'), ('Bob Ray', '815 Jones Road', 'Pine Tree', 'CA', '60497', '9716458241'), ('Pep Cola', '197 Pepsi Way', 'Buffalo', 'NY', '10577', '6319873461'), ('Bubbles Taylor', '341 Widex Lane', 'Gatlinburg', 'TN', '41271', '2413657412'), ('Remy Louis', '94 Croissant Circle', 'Paris', 'TX', '96416', '3219476485'), ('Scarlett Gatoa', '715 Red Lane', 'Redwing', 'CO', '94785', '8524176321'), ('Midas King', '648 Hippo Way', 'Cape Town', 'WA', '51487', '3479658241'), ('Abbey Road', '64 Beatles Lane', 'Strawberry Fields', 'VA', '96341', '8416325874'), ('Duke Ellington', 'Connersville', 'TN', '98741', '9416358471'), ('Coco Chanel', 'Hollywood', 'CA', '90468', '4128675309')]\n",
    "\n",
    "stmt = \"INSERT INTO test VALUES(?, ?, ?, ?, ?, ?)\"\n",
    "\n",
    "con.executemany(stmt, data)"
   ]
  },
  {
   "cell_type": "code",
   "execution_count": 31,
   "metadata": {},
   "outputs": [],
   "source": [
    "con.commit()"
   ]
  },
  {
   "cell_type": "code",
   "execution_count": 32,
   "metadata": {},
   "outputs": [],
   "source": [
    "cursor = con.execute('select * from test')\n",
    "\n",
    "rows = cursor.fetchall()"
   ]
  },
  {
   "cell_type": "code",
   "execution_count": 33,
   "metadata": {},
   "outputs": [
    {
     "data": {
      "text/plain": [
       "[('Jon Doe', '123 Maple Street', 'Macon', 'GA', 64297, 9049936475),\n",
       " ('April Jones',\n",
       "  '645 Celebration Ave',\n",
       "  'Celebration',\n",
       "  'FL',\n",
       "  34747,\n",
       "  4076751234),\n",
       " ('Bob Ray', '815 Jones Road', 'Pine Tree', 'CA', 60497, 9716458241),\n",
       " ('Pep Cola', '197 Pepsi Way', 'Buffalo', 'NY', 10577, 6319873461),\n",
       " ('Bubbles Taylor', '341 Widex Lane', 'Gatlinburg', 'TN', 41271, 2413657412),\n",
       " ('Remy Louis', '94 Croissant Circle', 'Paris', 'TX', 96416, 3219476485),\n",
       " ('Scarlett Gatoa', '715 Red Lane', 'Redwing', 'CO', 94785, 8524176321),\n",
       " ('Midas King', '648 Hippo Way', 'Cape Town', 'WA', 51487, 3479658241),\n",
       " ('Abbey Road',\n",
       "  '64 Beatles Lane',\n",
       "  'Strawberry Fields',\n",
       "  'VA',\n",
       "  96341,\n",
       "  8416325874)]"
      ]
     },
     "execution_count": 33,
     "metadata": {},
     "output_type": "execute_result"
    }
   ],
   "source": [
    "rows"
   ]
  },
  {
   "cell_type": "code",
   "execution_count": 34,
   "metadata": {},
   "outputs": [
    {
     "data": {
      "text/plain": [
       "(('Name', None, None, None, None, None, None),\n",
       " ('Address', None, None, None, None, None, None),\n",
       " ('City', None, None, None, None, None, None),\n",
       " ('State', None, None, None, None, None, None),\n",
       " ('Zip', None, None, None, None, None, None),\n",
       " ('Phone', None, None, None, None, None, None))"
      ]
     },
     "execution_count": 34,
     "metadata": {},
     "output_type": "execute_result"
    }
   ],
   "source": [
    "cursor.description"
   ]
  },
  {
   "cell_type": "code",
   "execution_count": 35,
   "metadata": {},
   "outputs": [
    {
     "data": {
      "text/html": [
       "<div>\n",
       "<style scoped>\n",
       "    .dataframe tbody tr th:only-of-type {\n",
       "        vertical-align: middle;\n",
       "    }\n",
       "\n",
       "    .dataframe tbody tr th {\n",
       "        vertical-align: top;\n",
       "    }\n",
       "\n",
       "    .dataframe thead th {\n",
       "        text-align: right;\n",
       "    }\n",
       "</style>\n",
       "<table border=\"1\" class=\"dataframe\">\n",
       "  <thead>\n",
       "    <tr style=\"text-align: right;\">\n",
       "      <th></th>\n",
       "      <th>Name</th>\n",
       "      <th>Address</th>\n",
       "      <th>City</th>\n",
       "      <th>State</th>\n",
       "      <th>Zip</th>\n",
       "      <th>Phone</th>\n",
       "    </tr>\n",
       "  </thead>\n",
       "  <tbody>\n",
       "    <tr>\n",
       "      <td>0</td>\n",
       "      <td>Jon Doe</td>\n",
       "      <td>123 Maple Street</td>\n",
       "      <td>Macon</td>\n",
       "      <td>GA</td>\n",
       "      <td>64297</td>\n",
       "      <td>9049936475</td>\n",
       "    </tr>\n",
       "    <tr>\n",
       "      <td>1</td>\n",
       "      <td>April Jones</td>\n",
       "      <td>645 Celebration Ave</td>\n",
       "      <td>Celebration</td>\n",
       "      <td>FL</td>\n",
       "      <td>34747</td>\n",
       "      <td>4076751234</td>\n",
       "    </tr>\n",
       "    <tr>\n",
       "      <td>2</td>\n",
       "      <td>Bob Ray</td>\n",
       "      <td>815 Jones Road</td>\n",
       "      <td>Pine Tree</td>\n",
       "      <td>CA</td>\n",
       "      <td>60497</td>\n",
       "      <td>9716458241</td>\n",
       "    </tr>\n",
       "    <tr>\n",
       "      <td>3</td>\n",
       "      <td>Pep Cola</td>\n",
       "      <td>197 Pepsi Way</td>\n",
       "      <td>Buffalo</td>\n",
       "      <td>NY</td>\n",
       "      <td>10577</td>\n",
       "      <td>6319873461</td>\n",
       "    </tr>\n",
       "    <tr>\n",
       "      <td>4</td>\n",
       "      <td>Bubbles Taylor</td>\n",
       "      <td>341 Widex Lane</td>\n",
       "      <td>Gatlinburg</td>\n",
       "      <td>TN</td>\n",
       "      <td>41271</td>\n",
       "      <td>2413657412</td>\n",
       "    </tr>\n",
       "    <tr>\n",
       "      <td>5</td>\n",
       "      <td>Remy Louis</td>\n",
       "      <td>94 Croissant Circle</td>\n",
       "      <td>Paris</td>\n",
       "      <td>TX</td>\n",
       "      <td>96416</td>\n",
       "      <td>3219476485</td>\n",
       "    </tr>\n",
       "    <tr>\n",
       "      <td>6</td>\n",
       "      <td>Scarlett Gatoa</td>\n",
       "      <td>715 Red Lane</td>\n",
       "      <td>Redwing</td>\n",
       "      <td>CO</td>\n",
       "      <td>94785</td>\n",
       "      <td>8524176321</td>\n",
       "    </tr>\n",
       "    <tr>\n",
       "      <td>7</td>\n",
       "      <td>Midas King</td>\n",
       "      <td>648 Hippo Way</td>\n",
       "      <td>Cape Town</td>\n",
       "      <td>WA</td>\n",
       "      <td>51487</td>\n",
       "      <td>3479658241</td>\n",
       "    </tr>\n",
       "    <tr>\n",
       "      <td>8</td>\n",
       "      <td>Abbey Road</td>\n",
       "      <td>64 Beatles Lane</td>\n",
       "      <td>Strawberry Fields</td>\n",
       "      <td>VA</td>\n",
       "      <td>96341</td>\n",
       "      <td>8416325874</td>\n",
       "    </tr>\n",
       "  </tbody>\n",
       "</table>\n",
       "</div>"
      ],
      "text/plain": [
       "             Name              Address               City State    Zip  \\\n",
       "0         Jon Doe     123 Maple Street              Macon    GA  64297   \n",
       "1     April Jones  645 Celebration Ave        Celebration    FL  34747   \n",
       "2         Bob Ray       815 Jones Road          Pine Tree    CA  60497   \n",
       "3        Pep Cola        197 Pepsi Way            Buffalo    NY  10577   \n",
       "4  Bubbles Taylor       341 Widex Lane         Gatlinburg    TN  41271   \n",
       "5      Remy Louis  94 Croissant Circle              Paris    TX  96416   \n",
       "6  Scarlett Gatoa         715 Red Lane            Redwing    CO  94785   \n",
       "7      Midas King        648 Hippo Way          Cape Town    WA  51487   \n",
       "8      Abbey Road      64 Beatles Lane  Strawberry Fields    VA  96341   \n",
       "\n",
       "        Phone  \n",
       "0  9049936475  \n",
       "1  4076751234  \n",
       "2  9716458241  \n",
       "3  6319873461  \n",
       "4  2413657412  \n",
       "5  3219476485  \n",
       "6  8524176321  \n",
       "7  3479658241  \n",
       "8  8416325874  "
      ]
     },
     "execution_count": 35,
     "metadata": {},
     "output_type": "execute_result"
    }
   ],
   "source": [
    "pd.DataFrame(rows, columns=[x[0] for x in cursor.description])"
   ]
  },
  {
   "cell_type": "code",
   "execution_count": 36,
   "metadata": {},
   "outputs": [],
   "source": [
    "import sqlalchemy as sqla"
   ]
  },
  {
   "cell_type": "code",
   "execution_count": 37,
   "metadata": {},
   "outputs": [],
   "source": [
    "db = sqla.create_engine('sqlite:///mydata2.sqlite')"
   ]
  },
  {
   "cell_type": "code",
   "execution_count": 38,
   "metadata": {},
   "outputs": [
    {
     "data": {
      "text/html": [
       "<div>\n",
       "<style scoped>\n",
       "    .dataframe tbody tr th:only-of-type {\n",
       "        vertical-align: middle;\n",
       "    }\n",
       "\n",
       "    .dataframe tbody tr th {\n",
       "        vertical-align: top;\n",
       "    }\n",
       "\n",
       "    .dataframe thead th {\n",
       "        text-align: right;\n",
       "    }\n",
       "</style>\n",
       "<table border=\"1\" class=\"dataframe\">\n",
       "  <thead>\n",
       "    <tr style=\"text-align: right;\">\n",
       "      <th></th>\n",
       "      <th>Name</th>\n",
       "      <th>Address</th>\n",
       "      <th>City</th>\n",
       "      <th>State</th>\n",
       "      <th>Zip</th>\n",
       "      <th>Phone</th>\n",
       "    </tr>\n",
       "  </thead>\n",
       "  <tbody>\n",
       "    <tr>\n",
       "      <td>0</td>\n",
       "      <td>Jon Doe</td>\n",
       "      <td>123 Maple Street</td>\n",
       "      <td>Macon</td>\n",
       "      <td>GA</td>\n",
       "      <td>64297</td>\n",
       "      <td>9049936475</td>\n",
       "    </tr>\n",
       "    <tr>\n",
       "      <td>1</td>\n",
       "      <td>April Jones</td>\n",
       "      <td>645 Celebration Ave</td>\n",
       "      <td>Celebration</td>\n",
       "      <td>FL</td>\n",
       "      <td>34747</td>\n",
       "      <td>4076751234</td>\n",
       "    </tr>\n",
       "    <tr>\n",
       "      <td>2</td>\n",
       "      <td>Bob Ray</td>\n",
       "      <td>815 Jones Road</td>\n",
       "      <td>Pine Tree</td>\n",
       "      <td>CA</td>\n",
       "      <td>60497</td>\n",
       "      <td>9716458241</td>\n",
       "    </tr>\n",
       "    <tr>\n",
       "      <td>3</td>\n",
       "      <td>Pep Cola</td>\n",
       "      <td>197 Pepsi Way</td>\n",
       "      <td>Buffalo</td>\n",
       "      <td>NY</td>\n",
       "      <td>10577</td>\n",
       "      <td>6319873461</td>\n",
       "    </tr>\n",
       "    <tr>\n",
       "      <td>4</td>\n",
       "      <td>Bubbles Taylor</td>\n",
       "      <td>341 Widex Lane</td>\n",
       "      <td>Gatlinburg</td>\n",
       "      <td>TN</td>\n",
       "      <td>41271</td>\n",
       "      <td>2413657412</td>\n",
       "    </tr>\n",
       "    <tr>\n",
       "      <td>5</td>\n",
       "      <td>Remy Louis</td>\n",
       "      <td>94 Croissant Circle</td>\n",
       "      <td>Paris</td>\n",
       "      <td>TX</td>\n",
       "      <td>96416</td>\n",
       "      <td>3219476485</td>\n",
       "    </tr>\n",
       "    <tr>\n",
       "      <td>6</td>\n",
       "      <td>Scarlett Gatoa</td>\n",
       "      <td>715 Red Lane</td>\n",
       "      <td>Redwing</td>\n",
       "      <td>CO</td>\n",
       "      <td>94785</td>\n",
       "      <td>8524176321</td>\n",
       "    </tr>\n",
       "    <tr>\n",
       "      <td>7</td>\n",
       "      <td>Midas King</td>\n",
       "      <td>648 Hippo Way</td>\n",
       "      <td>Cape Town</td>\n",
       "      <td>WA</td>\n",
       "      <td>51487</td>\n",
       "      <td>3479658241</td>\n",
       "    </tr>\n",
       "    <tr>\n",
       "      <td>8</td>\n",
       "      <td>Abbey Road</td>\n",
       "      <td>64 Beatles Lane</td>\n",
       "      <td>Strawberry Fields</td>\n",
       "      <td>VA</td>\n",
       "      <td>96341</td>\n",
       "      <td>8416325874</td>\n",
       "    </tr>\n",
       "  </tbody>\n",
       "</table>\n",
       "</div>"
      ],
      "text/plain": [
       "             Name              Address               City State    Zip  \\\n",
       "0         Jon Doe     123 Maple Street              Macon    GA  64297   \n",
       "1     April Jones  645 Celebration Ave        Celebration    FL  34747   \n",
       "2         Bob Ray       815 Jones Road          Pine Tree    CA  60497   \n",
       "3        Pep Cola        197 Pepsi Way            Buffalo    NY  10577   \n",
       "4  Bubbles Taylor       341 Widex Lane         Gatlinburg    TN  41271   \n",
       "5      Remy Louis  94 Croissant Circle              Paris    TX  96416   \n",
       "6  Scarlett Gatoa         715 Red Lane            Redwing    CO  94785   \n",
       "7      Midas King        648 Hippo Way          Cape Town    WA  51487   \n",
       "8      Abbey Road      64 Beatles Lane  Strawberry Fields    VA  96341   \n",
       "\n",
       "        Phone  \n",
       "0  9049936475  \n",
       "1  4076751234  \n",
       "2  9716458241  \n",
       "3  6319873461  \n",
       "4  2413657412  \n",
       "5  3219476485  \n",
       "6  8524176321  \n",
       "7  3479658241  \n",
       "8  8416325874  "
      ]
     },
     "execution_count": 38,
     "metadata": {},
     "output_type": "execute_result"
    }
   ],
   "source": [
    "pd.read_sql('select * from test', db)"
   ]
  },
  {
   "cell_type": "code",
   "execution_count": null,
   "metadata": {},
   "outputs": [],
   "source": []
  }
 ],
 "metadata": {
  "kernelspec": {
   "display_name": "Python 3",
   "language": "python",
   "name": "python3"
  },
  "language_info": {
   "codemirror_mode": {
    "name": "ipython",
    "version": 3
   },
   "file_extension": ".py",
   "mimetype": "text/x-python",
   "name": "python",
   "nbconvert_exporter": "python",
   "pygments_lexer": "ipython3",
   "version": "3.7.4"
  }
 },
 "nbformat": 4,
 "nbformat_minor": 2
}
