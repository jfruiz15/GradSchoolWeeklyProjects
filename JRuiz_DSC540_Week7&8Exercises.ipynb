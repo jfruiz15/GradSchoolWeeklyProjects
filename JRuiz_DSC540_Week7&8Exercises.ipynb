{
 "cells": [
  {
   "cell_type": "markdown",
   "metadata": {},
   "source": [
    "# 1. Data Wrangling with Python: Activity 9, page 294"
   ]
  },
  {
   "cell_type": "code",
   "execution_count": 1,
   "metadata": {},
   "outputs": [
    {
     "name": "stdout",
     "output_type": "stream",
     "text": [
      "Libraries Loaded\n"
     ]
    }
   ],
   "source": [
    "# import libraries\n",
    "import urllib.request, urllib.parse, urllib.error\n",
    "import requests\n",
    "from bs4 import BeautifulSoup\n",
    "import ssl\n",
    "import re\n",
    "\n",
    "print(\"Libraries Loaded\")"
   ]
  },
  {
   "cell_type": "code",
   "execution_count": 2,
   "metadata": {},
   "outputs": [],
   "source": [
    "# Check SSL Certificate\n",
    "ctx = ssl.create_default_context()\n",
    "ctx.check_hostname = False\n",
    "ctx.verify_mode = ssl.CERT_NONE"
   ]
  },
  {
   "cell_type": "code",
   "execution_count": 3,
   "metadata": {},
   "outputs": [],
   "source": [
    "# read HTML from the URL\n",
    "url = 'https://www.gutenberg.org/browse/scores/top'\n",
    "response = requests.get(url)"
   ]
  },
  {
   "cell_type": "code",
   "execution_count": 4,
   "metadata": {},
   "outputs": [],
   "source": [
    "# function to check status of web request\n",
    "def status_check(r):\n",
    "    if r.status_code==200:\n",
    "        print('We have Liftoff')\n",
    "        return 1\n",
    "    else:\n",
    "        print('Mission Failure')\n",
    "        return -1"
   ]
  },
  {
   "cell_type": "code",
   "execution_count": 5,
   "metadata": {},
   "outputs": [
    {
     "name": "stdout",
     "output_type": "stream",
     "text": [
      "We have Liftoff\n"
     ]
    },
    {
     "data": {
      "text/plain": [
       "1"
      ]
     },
     "execution_count": 5,
     "metadata": {},
     "output_type": "execute_result"
    }
   ],
   "source": [
    "# check status\n",
    "status_check(response)"
   ]
  },
  {
   "cell_type": "code",
   "execution_count": 6,
   "metadata": {},
   "outputs": [],
   "source": [
    "# Decode the response and pass this on to BeautifulSoup for HTML parsing\n",
    "contents = response.content.decode(response.encoding)\n",
    "soup = BeautifulSoup(contents, 'html.parser')"
   ]
  },
  {
   "cell_type": "code",
   "execution_count": 7,
   "metadata": {},
   "outputs": [],
   "source": [
    "# find all href tags and store them as links\n",
    "lst_links =[]\n",
    "for link in soup.find_all('a'):\n",
    "    lst_links.append(link.get('href'))"
   ]
  },
  {
   "cell_type": "code",
   "execution_count": 8,
   "metadata": {},
   "outputs": [
    {
     "data": {
      "text/plain": [
       "['/wiki/Main_Page',\n",
       " '/catalog/',\n",
       " '/ebooks/',\n",
       " '/browse/recent/last1',\n",
       " '/browse/scores/top',\n",
       " '/wiki/Gutenberg:Offline_Catalogs',\n",
       " '/catalog/world/mybookmarks',\n",
       " '/wiki/Main_Page',\n",
       " 'https://www.paypal.com/xclick/business=donate%40gutenberg.org&item_name=Donation+to+Project+Gutenberg',\n",
       " '/wiki/Gutenberg:Project_Gutenberg_Needs_Your_Donation',\n",
       " 'http://www.ibiblio.org',\n",
       " 'http://www.pgdp.net/',\n",
       " 'pretty-pictures',\n",
       " '#books-last1',\n",
       " '#authors-last1',\n",
       " '#books-last7',\n",
       " '#authors-last7',\n",
       " '#books-last30',\n",
       " '#authors-last30',\n",
       " '/ebooks/1342',\n",
       " '/ebooks/11',\n",
       " '/ebooks/1661',\n",
       " '/ebooks/2701',\n",
       " '/ebooks/1635',\n",
       " '/ebooks/1952',\n",
       " '/ebooks/25525',\n",
       " '/ebooks/84',\n",
       " '/ebooks/98',\n",
       " '/ebooks/5200',\n",
       " '/ebooks/2591']"
      ]
     },
     "execution_count": 8,
     "metadata": {},
     "output_type": "execute_result"
    }
   ],
   "source": [
    "# print first 30 elements\n",
    "lst_links[:30]"
   ]
  },
  {
   "cell_type": "code",
   "execution_count": 9,
   "metadata": {},
   "outputs": [],
   "source": [
    "# use a regular expression to find numeric digits in links\n",
    "booknum=[]\n",
    "\n",
    "for i in range(19,119):\n",
    "    link = lst_links[i]\n",
    "    link = link.strip()\n",
    "    \n",
    "    n=re.findall('[0-9]+', link)\n",
    "    if len(n)==1:\n",
    "        booknum.append(int(n[0]))"
   ]
  },
  {
   "cell_type": "code",
   "execution_count": 10,
   "metadata": {},
   "outputs": [
    {
     "name": "stdout",
     "output_type": "stream",
     "text": [
      "\n",
      "The file numbers for the top 100 ebooks on Gutenberg are below\n",
      "------------------------------------------------------------\n",
      "[1342, 11, 1661, 2701, 1635, 1952, 25525, 84, 98, 5200, 2591, 205, 2542, 1080, 514, 43, 16, 74, 2600, 76, 376, 174, 408, 1232, 62700, 4300, 62705, 1184, 120, 16328, 345, 158, 62707, 46, 844, 1497, 45, 20203, 1260, 25322, 1400, 42108, 203, 6130, 1727, 14975, 58975, 55, 5740, 3600, 62702, 113, 23, 2554, 2814, 244, 28054, 135, 902, 2852, 58585, 27827, 730, 20738, 62713, 148, 219, 768, 27547, 1998, 62708, 25344, 2500, 160, 215, 4363, 62714, 33283, 996, 1250, 1399, 36, 25717, 3207, 3825, 7370, 62716, 3090, 1228, 8800, 100, 62697, 2680, 23700, 1404, 62704, 829, 62709, 24518, 766]\n"
     ]
    }
   ],
   "source": [
    "# print file numbers\n",
    "print(\"\\nThe file numbers for the top 100 ebooks on Gutenberg are below\\n\"+\"-\"*60)\n",
    "print(booknum)"
   ]
  },
  {
   "cell_type": "code",
   "execution_count": 14,
   "metadata": {},
   "outputs": [
    {
     "name": "stdout",
     "output_type": "stream",
     "text": [
      "\n",
      "\n",
      "\n",
      "\n",
      "\n",
      "\n",
      "\n",
      "\n",
      "\n",
      "      if (top != self) {\n",
      "        top.location.replace ('http://www.gutenberg.org');\n",
      "        alert ('Project Gutenberg is a FREE service with NO membership required. If you paid somebody else to get here, make them give you your money back!');\n",
      "      }\n",
      "    \n",
      " \n",
      "Top 100 - Project Gutenberg\n",
      "\n",
      "\n",
      "\n",
      "\n",
      "\n",
      "\n",
      "\n",
      "\n",
      "Online Book Catalog\n",
      "=> \n",
      "\n",
      "\n",
      "\n",
      " Book  Search\n",
      "-- Recent  Books\n",
      "-- Top  100\n",
      "-- Offline Catalogs\n",
      "-- My Bookmarks\n",
      "\n",
      "\n",
      "Main Page\n",
      "\n",
      "\n",
      "\n",
      "\n",
      "Project Gutenberg needs your donation! \n",
      "        More Info\n",
      "\n",
      "\n",
      "\n",
      "\n",
      "\n",
      "\n",
      "\n",
      "\n",
      "Did you know that you can help us produce ebooks\n",
      "by proof-reading just one page a day?\n",
      "Go to: Distributed Proofreaders\n",
      "\n",
      "\n",
      "\n",
      "Top 100\n",
      "\n",
      "\n",
      "To determine the ranking we count the times each file gets downloaded.\n",
      "Both HTTP and FTP transfers are counted.\n",
      "Only transfers from ibiblio.org are counted as we have no access to our mirrors log files.\n",
      "Multiple downloads from the same IP address on the same day count as one download.\n",
      "IP addresses that download more than 100 files a day are considered\n",
      "robots and are not considered.\n",
      "Books made out of multiple files like most audio books are counted\n",
      "if any file is downloaded.\n",
      "\n",
      "Downloaded Books\n",
      "2020-07-20181798\n",
      "last 7 days1194985\n",
      "last 30 days5388311\n",
      "\n",
      "Pretty Pictures\n",
      "\n",
      "Top 100 EBooks yesterday —\n",
      "  Top 100 Authors yesterday —\n",
      "  Top 100 EBooks last 7 days —\n",
      "  Top 100 Authors last 7 days —\n",
      "  Top 100 EBooks last 30 days —\n",
      "  Top 100 Authors last 30 days\n",
      "\n",
      "Top 100 EBooks yesterday\n",
      "\n",
      "Pride and Prejudice by Jane Austen (1526)\n",
      "Alice's Adventures in Wonderland by Lewis Carroll (1075)\n",
      "The Adventures of Sherlock Holmes by Arthur Conan Doyle (785)\n",
      "Moby Dick; Or, The Whale by Herman Melville (723)\n",
      "Ion by Plato (677)\n",
      "The Yellow Wallpaper by Charlotte Perkins Gilman (665)\n",
      "The Works of Edgar Allan Poe, The Raven Edition by Edgar Allan Poe (638)\n",
      "Frankenstein; Or, The Modern Prometheus by Mary Wollstonecraft Shelley (569)\n",
      "A Tale of Two Cities by Charles Dickens (565)\n",
      "Metamorphosis by Franz Kafka (540)\n",
      "Grimms' Fairy Tales by Jacob Grimm and Wilhelm Grimm (520)\n",
      "Walden, and On The Du\n"
     ]
    }
   ],
   "source": [
    "# print first 2000 characters \n",
    "print(soup.text[:2000])"
   ]
  },
  {
   "cell_type": "code",
   "execution_count": 18,
   "metadata": {},
   "outputs": [],
   "source": [
    "# creating empty list to find names of all 100 ebooks\n",
    "lst_titles_temp =[]\n",
    "\n",
    "start_idx = soup.text.splitlines().index('Top 100 EBooks yesterday')\n",
    "\n",
    "# creating for loop to add names to temp list\n",
    "for i in range(100):\n",
    "    lst_titles_temp.append(soup.text.splitlines()[start_idx+2+i])"
   ]
  },
  {
   "cell_type": "code",
   "execution_count": 21,
   "metadata": {},
   "outputs": [
    {
     "name": "stdout",
     "output_type": "stream",
     "text": [
      "Pride and Prejudice by Jane Austen \n",
      "Alice\n",
      "The Adventures of Sherlock Holmes by Arthur Conan Doyle \n",
      "Moby Dick\n",
      "Ion by Plato \n",
      "The Yellow Wallpaper by Charlotte Perkins Gilman \n",
      "The Works of Edgar Allan Poe\n",
      "Frankenstein\n",
      "A Tale of Two Cities by Charles Dickens \n",
      "Metamorphosis by Franz Kafka \n",
      "Grimms\n",
      "Walden\n",
      "Et dukkehjem\n",
      "A Modest Proposal by Jonathan Swift \n",
      "Little Women by Louisa May Alcott \n",
      "The Strange Case of Dr\n",
      "Peter Pan by J\n",
      "The Adventures of Tom Sawyer by Mark Twain \n",
      "War and Peace by graf Leo Tolstoy \n",
      "Adventures of Huckleberry Finn by Mark Twain \n",
      "A Journal of the Plague Year by Daniel Defoe \n",
      "The Picture of Dorian Gray by Oscar Wilde \n",
      "The Souls of Black Folk by W\n",
      "Il Principe\n",
      "Pictures of People by Charles Dana Gibson \n",
      "Ulysses by James Joyce \n",
      "The Book of Nature by James Ashton \n",
      "The Count of Monte Cristo\n",
      "Treasure Island by Robert Louis Stevenson \n",
      "Beowulf\n",
      "Dracula by Bram Stoker \n",
      "Emma by Jane Austen \n",
      "A Furnace of Earth by Hallie Ermine Rives \n",
      "A Christmas Carol in Prose\n",
      "The Importance of Being Earnest\n",
      "The Republic by Plato \n",
      "Anne of Green Gables by L\n",
      "Autobiography of Benjamin Franklin by Benjamin Franklin \n",
      "Jane Eyre\n",
      "Fables in Slang by George Ade \n",
      "Great Expectations by Charles Dickens \n",
      "The Slang Dictionary\n",
      "Uncle Tom\n",
      "The Iliad by Homer \n",
      "The Odyssey by Homer \n",
      "Southern Horrors\n",
      "Index of Project Gutenberg Works on Black History by Various \n",
      "The Wonderful Wizard of Oz by L\n",
      "Tractatus Logico\n",
      "Essays of Michel de Montaigne \n",
      "The City of the Sacred Well by T\n",
      "The Secret Garden by Frances Hodgson Burnett \n",
      "Narrative of the Life of Frederick Douglass\n",
      "Prestuplenie i nakazanie\n",
      "Dubliners by James Joyce \n",
      "A Study in Scarlet by Arthur Conan Doyle \n",
      "The Brothers Karamazov by Fyodor Dostoyevsky \n",
      "Les Mis\n",
      "The Happy Prince\n",
      "The Hound of the Baskervilles by Arthur Conan Doyle \n",
      "The Prophet by Kahlil Gibran \n",
      "The Kama Sutra of Vatsyayana by Vatsyayana \n",
      "Oliver Twist by Charles Dickens \n",
      "Diccionario Ingles\n",
      "Crypt\n",
      "The Autobiography of Benjamin Franklin by Benjamin Franklin \n",
      "Heart of Darkness by Joseph Conrad \n",
      "Wuthering Heights by Emily Bront\n",
      "British Borneo by Sir W\n",
      "Also sprach Zarathustra\n",
      "Canal Reminiscences by George W\n",
      "The Scarlet Letter by Nathaniel Hawthorne \n",
      "Siddhartha by Hermann Hesse \n",
      "The Awakening\n",
      "The Call of the Wild by Jack London \n",
      "Beyond Good and Evil by Friedrich Wilhelm Nietzsche \n",
      "The House of Delight by Gertrude Chandler Warner \n",
      "Calculus Made Easy by Silvanus P\n",
      "Don Quixote by Miguel de Cervantes Saavedra \n",
      "Anthem by Ayn Rand \n",
      "Anna Karenina by graf Leo Tolstoy \n",
      "The War of the Worlds by H\n",
      "The History of the Decline and Fall of the Roman Empire by Edward Gibbon \n",
      "Leviathan by Thomas Hobbes \n",
      "Pygmalion by Bernard Shaw \n",
      "Second Treatise of Government by John Locke \n",
      "The happy villagers by Anonymous \n",
      "Complete Original Short Stories of Guy De Maupassant by Guy de Maupassant \n",
      "On the origin of species by Charles Darwin \n",
      "An Index of The Divine Comedy by Dante by Dante Alighieri \n",
      "The Complete Works of William Shakespeare by William Shakespeare \n",
      "Atolls of the Sun by Frederick O\n",
      "Meditations by Emperor of Rome Marcus Aurelius \n",
      "The Decameron of Giovanni Boccaccio by Giovanni Boccaccio \n",
      "The Federalist Papers by Alexander Hamilton and John Jay and James Madison \n",
      "The Natural History of Pliny\n",
      "Gulliver\n",
      "Jonah by Aldous Huxley \n",
      "Memoirs of Extraordinary Popular Delusions and the Madness of Crowds by Charles Mackay \n",
      "David Copperfield by Charles Dickens \n"
     ]
    }
   ],
   "source": [
    "# use regular expression to extract text only\n",
    "lst_titles=[]\n",
    "for i in range(100):\n",
    "    id1,id2=re.match('^[a-zA-Z ]*',lst_titles_temp[i]).span()\n",
    "    lst_titles.append(lst_titles_temp[i][id1:id2])\n",
    "    \n",
    "# print titles\n",
    "for l in lst_titles:\n",
    "    print(l)"
   ]
  },
  {
   "cell_type": "markdown",
   "metadata": {},
   "source": [
    "# 2. Data Wrangling with Python: Activity 10, page 295"
   ]
  },
  {
   "cell_type": "code",
   "execution_count": 2,
   "metadata": {},
   "outputs": [
    {
     "name": "stdout",
     "output_type": "stream",
     "text": [
      "Libraries Imported\n"
     ]
    }
   ],
   "source": [
    "import urllib.request, urllib.parse, urllib.error\n",
    "import json\n",
    "\n",
    "print('Libraries Imported')"
   ]
  },
  {
   "cell_type": "code",
   "execution_count": 4,
   "metadata": {},
   "outputs": [],
   "source": [
    "dictionary = {'omdbapi' : '862dc5ca'}"
   ]
  },
  {
   "cell_type": "code",
   "execution_count": 5,
   "metadata": {},
   "outputs": [],
   "source": [
    "json_object = json.dumps(dictionary)"
   ]
  },
  {
   "cell_type": "code",
   "execution_count": 6,
   "metadata": {},
   "outputs": [],
   "source": [
    "with open('api_example.json', 'w') as outfile:\n",
    "    outfile.write(json_object)"
   ]
  },
  {
   "cell_type": "code",
   "execution_count": 7,
   "metadata": {},
   "outputs": [
    {
     "name": "stdout",
     "output_type": "stream",
     "text": [
      "{'omdbapi': '862dc5ca'}\n"
     ]
    }
   ],
   "source": [
    "with open('api_example.json', 'r') as f:\n",
    "    json_object2 = json.load(f)\n",
    "    print(json_object2)"
   ]
  },
  {
   "cell_type": "code",
   "execution_count": 13,
   "metadata": {},
   "outputs": [],
   "source": [
    "serviceurl = 'http://www.omdbapi.com/?'\n",
    "apikey = '&apikey=' + '862dc5ca'"
   ]
  },
  {
   "cell_type": "code",
   "execution_count": 9,
   "metadata": {},
   "outputs": [],
   "source": [
    "def print_json(json_data):\n",
    "    list_keys=['Title', 'Year', 'Rated', 'Released', 'Runtime', 'Genre', 'Director',\n",
    "               'Writer', 'Actors', 'Plot', 'Language', 'Country', 'Awards', 'Ratings',\n",
    "               'Metascore', 'imdbRating', 'imdbVotes', 'imdbID']\n",
    "    print(\"-\"*50)\n",
    "    for k in list_keys:\n",
    "        if k in list(json_data.keys()):\n",
    "            print(f\"{k}: {json_data[k]}\")\n",
    "    print(\"-\"*50)"
   ]
  },
  {
   "cell_type": "code",
   "execution_count": 15,
   "metadata": {},
   "outputs": [],
   "source": [
    "def save_poster(json_data):\n",
    "    import os \n",
    "    title=json_data['Title']\n",
    "    poster_url = json_data['Poster']\n",
    "    poster_extension = poster_url.split('.')[-1]\n",
    "    poster_data = urllib.request.urlopen(poster_url).read()\n",
    "    savelocation = os.getcwd()+'\\\\'+'Posters'+'\\\\'\n",
    "    if not os.path.isdir(savelocation):\n",
    "        os.mkdir(savelocation)\n",
    "        \n",
    "    filename=savelocation+str(title)+'.'+poster_extension\n",
    "    f = open(filename, 'wb')\n",
    "    f.write(poster_data)\n",
    "    f.close()"
   ]
  },
  {
   "cell_type": "code",
   "execution_count": 16,
   "metadata": {},
   "outputs": [],
   "source": [
    "def search_movie(title):\n",
    "    try:\n",
    "        url = serviceurl + urllib.parse.urlencode({'t':str(title)})+apikey\n",
    "        print(f'Retrieving the data of \"{title}\" now...')\n",
    "        print(url)\n",
    "        uh = urllib.request.urlopen(url)\n",
    "        data = uh.read()\n",
    "        json_data = json.loads(data)\n",
    "        \n",
    "        if json_data['Response']=='True':\n",
    "            print_json(json_data)\n",
    "            if json_data['Poster']!= 'N/A':\n",
    "                save_poster(json_data)\n",
    "        else:\n",
    "            print(\"Error Encountered: \", json_data['Error'])\n",
    "            \n",
    "    except urllib.error.URLError as e:\n",
    "        print(f\"Error: {e.reason}\")"
   ]
  },
  {
   "cell_type": "code",
   "execution_count": 17,
   "metadata": {},
   "outputs": [
    {
     "name": "stdout",
     "output_type": "stream",
     "text": [
      "Retrieving the data of \"Titanic\" now...\n",
      "http://www.omdbapi.com/?t=Titanic&apikey=862dc5ca\n",
      "--------------------------------------------------\n",
      "Title: Titanic\n",
      "Year: 1997\n",
      "Rated: PG-13\n",
      "Released: 19 Dec 1997\n",
      "Runtime: 194 min\n",
      "Genre: Drama, Romance\n",
      "Director: James Cameron\n",
      "Writer: James Cameron\n",
      "Actors: Leonardo DiCaprio, Kate Winslet, Billy Zane, Kathy Bates\n",
      "Plot: A seventeen-year-old aristocrat falls in love with a kind but poor artist aboard the luxurious, ill-fated R.M.S. Titanic.\n",
      "Language: English, Swedish, Italian, French\n",
      "Country: USA, Mexico, Australia, Canada\n",
      "Awards: Won 11 Oscars. Another 113 wins & 83 nominations.\n",
      "Ratings: [{'Source': 'Internet Movie Database', 'Value': '7.8/10'}, {'Source': 'Rotten Tomatoes', 'Value': '89%'}, {'Source': 'Metacritic', 'Value': '75/100'}]\n",
      "Metascore: 75\n",
      "imdbRating: 7.8\n",
      "imdbVotes: 1,018,292\n",
      "imdbID: tt0120338\n",
      "--------------------------------------------------\n"
     ]
    }
   ],
   "source": [
    "search_movie(\"Titanic\")"
   ]
  },
  {
   "cell_type": "code",
   "execution_count": 18,
   "metadata": {},
   "outputs": [
    {
     "name": "stdout",
     "output_type": "stream",
     "text": [
      "Retrieving the data of \"Random_error\" now...\n",
      "http://www.omdbapi.com/?t=Random_error&apikey=862dc5ca\n",
      "Error Encountered:  Movie not found!\n"
     ]
    }
   ],
   "source": [
    "search_movie(\"Random_error\")"
   ]
  },
  {
   "cell_type": "markdown",
   "metadata": {},
   "source": [
    "# 3. Twitter API"
   ]
  },
  {
   "cell_type": "code",
   "execution_count": 5,
   "metadata": {},
   "outputs": [
    {
     "name": "stdout",
     "output_type": "stream",
     "text": [
      "Collecting python-twitter\n",
      "  Downloading https://files.pythonhosted.org/packages/b3/a9/2eb36853d8ca49a70482e2332aa5082e09b3180391671101b1612e3aeaf1/python_twitter-3.5-py2.py3-none-any.whl (67kB)\n",
      "Requirement already satisfied: future in c:\\users\\jfrui\\anaconda3\\lib\\site-packages (from python-twitter) (0.17.1)\n",
      "Collecting requests-oauthlib (from python-twitter)\n",
      "  Downloading https://files.pythonhosted.org/packages/a3/12/b92740d845ab62ea4edf04d2f4164d82532b5a0b03836d4d4e71c6f3d379/requests_oauthlib-1.3.0-py2.py3-none-any.whl\n",
      "Requirement already satisfied: requests in c:\\users\\jfrui\\anaconda3\\lib\\site-packages (from python-twitter) (2.22.0)\n",
      "Collecting oauthlib>=3.0.0 (from requests-oauthlib->python-twitter)\n",
      "  Downloading https://files.pythonhosted.org/packages/05/57/ce2e7a8fa7c0afb54a0581b14a65b56e62b5759dbc98e80627142b8a3704/oauthlib-3.1.0-py2.py3-none-any.whl (147kB)\n",
      "Requirement already satisfied: certifi>=2017.4.17 in c:\\users\\jfrui\\anaconda3\\lib\\site-packages (from requests->python-twitter) (2019.9.11)\n",
      "Requirement already satisfied: idna<2.9,>=2.5 in c:\\users\\jfrui\\anaconda3\\lib\\site-packages (from requests->python-twitter) (2.8)\n",
      "Requirement already satisfied: chardet<3.1.0,>=3.0.2 in c:\\users\\jfrui\\anaconda3\\lib\\site-packages (from requests->python-twitter) (3.0.4)\n",
      "Requirement already satisfied: urllib3!=1.25.0,!=1.25.1,<1.26,>=1.21.1 in c:\\users\\jfrui\\anaconda3\\lib\\site-packages (from requests->python-twitter) (1.24.2)\n",
      "Installing collected packages: oauthlib, requests-oauthlib, python-twitter\n",
      "Successfully installed oauthlib-3.1.0 python-twitter-3.5 requests-oauthlib-1.3.0\n",
      "Note: you may need to restart the kernel to use updated packages.\n"
     ]
    }
   ],
   "source": [
    "pip install python-twitter"
   ]
  },
  {
   "cell_type": "code",
   "execution_count": 1,
   "metadata": {},
   "outputs": [],
   "source": [
    "import twitter"
   ]
  },
  {
   "cell_type": "code",
   "execution_count": 2,
   "metadata": {},
   "outputs": [],
   "source": [
    "api = twitter.Api(consumer_key='L5U6KKXgvZe38ESU55lYJ6oGQ',\n",
    "  consumer_secret='FldVhiIXyqdv8WoJtIZGBQziNmKIIwFXxl1Mf6mZ5ws7nQzflC',\n",
    "    access_token_key='1250480764640268295-44fKmNclu59imwdLojH9hxjEGVr7EA',\n",
    "    access_token_secret='qJIlgNXtPAaLeFiexCc8abgO66xQ13p7ghkKuVFAkt0Xy')"
   ]
  },
  {
   "cell_type": "code",
   "execution_count": 3,
   "metadata": {},
   "outputs": [
    {
     "name": "stdout",
     "output_type": "stream",
     "text": [
      "{\"created_at\": \"Wed Apr 15 17:47:25 +0000 2020\", \"default_profile\": true, \"default_profile_image\": true, \"friends_count\": 1, \"id\": 1250480764640268295, \"id_str\": \"1250480764640268295\", \"name\": \"J Ruiz\", \"profile_background_color\": \"F5F8FA\", \"profile_image_url\": \"http://abs.twimg.com/sticky/default_profile_images/default_profile_normal.png\", \"profile_image_url_https\": \"https://abs.twimg.com/sticky/default_profile_images/default_profile_normal.png\", \"profile_link_color\": \"1DA1F2\", \"profile_sidebar_border_color\": \"C0DEED\", \"profile_sidebar_fill_color\": \"DDEEF6\", \"profile_text_color\": \"333333\", \"profile_use_background_image\": true, \"screen_name\": \"JRuiz69035564\"}\n"
     ]
    }
   ],
   "source": [
    "print(api.VerifyCredentials())"
   ]
  },
  {
   "cell_type": "code",
   "execution_count": 4,
   "metadata": {},
   "outputs": [
    {
     "data": {
      "text/plain": [
       "[Status(ID=1283111783688024066, ScreenName=GovMurphy, Created=Tue Jul 14 18:51:02 +0000 2020, Text='Prioritize science over politics.\\n\\nPrioritize data over politics.\\n\\nPrioritize public health over politics.\\n\\nPriorit… https://t.co/VCVrfaRFAi'),\n",
       " Status(ID=1282830226628571138, ScreenName=CaptMarkKelly, Created=Tue Jul 14 00:12:14 +0000 2020, Text='It’s amazing what we can accomplish when we use science, data, and facts. https://t.co/MLwLp06IZa'),\n",
       " Status(ID=1283450811801055233, ScreenName=ZubyMusic, Created=Wed Jul 15 17:18:13 +0000 2020, Text=\"People keep telling me to:\\n\\n'educate myself'\\n\\n'read a book'\\n\\n'learn history'\\n\\n'listen to the science'\\n\\n'look at the… https://t.co/bIiX44aZ2U\"),\n",
       " Status(ID=1283490282084990979, ScreenName=ranrib, Created=Wed Jul 15 19:55:04 +0000 2020, Text='RT @gp_pulipaka: 13 Python #DataScience and #MachineLearning Libraries You Need to Know. #BigData #Analytics #AI #IoT #IIoT #Python #RStats…'),\n",
       " Status(ID=1283490275923550210, ScreenName=THE_DUDE_ABlDES, Created=Wed Jul 15 19:55:02 +0000 2020, Text=\"RT @ZubyMusic: People keep telling me to:\\n\\n'educate myself'\\n\\n'read a book'\\n\\n'learn history'\\n\\n'listen to the science'\\n\\n'look at the data'\\n\\nI…\"),\n",
       " Status(ID=1283490273759080448, ScreenName=TonyLimaPOL, Created=Wed Jul 15 19:55:02 +0000 2020, Text='RT @KenGardner11: Lies, damn lies, and \"data science\"... https://t.co/ZDLwlKOZn2'),\n",
       " Status(ID=1283490226359406592, ScreenName=alohalife2012, Created=Wed Jul 15 19:54:50 +0000 2020, Text='RT @swamp_nugget: Breaking: Trump Admin Wisely Strips CDC Of Control Of Coronavirus Data -- Information Will Now Be Sent to Central DC Data…'),\n",
       " Status(ID=1283490219849908225, ScreenName=LoriBlaney, Created=Wed Jul 15 19:54:49 +0000 2020, Text='RT @swamp_nugget: Breaking: Trump Admin Wisely Strips CDC Of Control Of Coronavirus Data -- Information Will Now Be Sent to Central DC Data…'),\n",
       " Status(ID=1283490176581292032, ScreenName=EvanKirstel, Created=Wed Jul 15 19:54:38 +0000 2020, Text='RT @splunk: Ready to jump into the hottest topics in tech? Yep, that’s right, we’re talking #AI and #datascience. @BernardMarr shares the t…'),\n",
       " Status(ID=1283490134856540163, ScreenName=FIPVOTENOLA, Created=Wed Jul 15 19:54:28 +0000 2020, Text='RT @paulscheer: The CDC isn’t political. It’s science &amp; data driven. It’s now being stripped of its abilities to help control this virus. R…'),\n",
       " Status(ID=1283490103030165504, ScreenName=retiredArmy8, Created=Wed Jul 15 19:54:21 +0000 2020, Text=\"RT @ZubyMusic: People keep telling me to:\\n\\n'educate myself'\\n\\n'read a book'\\n\\n'learn history'\\n\\n'listen to the science'\\n\\n'look at the data'\\n\\nI…\"),\n",
       " Status(ID=1283489989578436608, ScreenName=s_nadler, Created=Wed Jul 15 19:53:54 +0000 2020, Text='@LeeMad1996 @RobertwRuncie And when 100% of the teachers that are listening to science and data and choose to do th… https://t.co/HEIUuR5Mfm'),\n",
       " Status(ID=1283489963515027456, ScreenName=jgoodmansunset, Created=Wed Jul 15 19:53:48 +0000 2020, Text='@RepTedDeutch @Jack_Tracey Science. Facts. Data. Vote your Governor OUT!'),\n",
       " Status(ID=1283489959006044161, ScreenName=rickybennesby, Created=Wed Jul 15 19:53:46 +0000 2020, Text='RT @gp_pulipaka: 13 Python #DataScience and #MachineLearning Libraries You Need to Know. #BigData #Analytics #AI #IoT #IIoT #Python #RStats…'),\n",
       " Status(ID=1283489951284432905, ScreenName=DiloLarry, Created=Wed Jul 15 19:53:45 +0000 2020, Text='RT @0CoffeeBlack0: A quick reconstruction of #Dilophosaurus wetherilli based on the new data that was recently published.\\n\\n#dinosaur #dinos…')]"
      ]
     },
     "execution_count": 4,
     "metadata": {},
     "output_type": "execute_result"
    }
   ],
   "source": [
    "# Searching tweets for data science tags\n",
    "api.GetSearch(term='data science', since=2016-11-21, count=15)"
   ]
  },
  {
   "cell_type": "markdown",
   "metadata": {},
   "source": [
    "# 4. Using one of the datasets provided, choose 3 of the following visualizations to complete. You must submit via PDF along with your code. You are free to use Matplotlib, Seaborn or another package if you prefer.\n",
    "\n",
    "a. Line\n",
    "\n",
    "b. Scatter\n",
    "\n",
    "c. Bar\n",
    "\n",
    "d. Histogram\n",
    "\n",
    "e. Density Plot\n",
    "\n",
    "f. Pie Chart"
   ]
  },
  {
   "cell_type": "code",
   "execution_count": 19,
   "metadata": {},
   "outputs": [],
   "source": [
    "import pandas as pd\n",
    "import matplotlib.pyplot as plt\n",
    "import seaborn as sns"
   ]
  },
  {
   "cell_type": "code",
   "execution_count": 36,
   "metadata": {
    "scrolled": true
   },
   "outputs": [],
   "source": [
    "data = pd.read_csv('geoMap.csv', names=['Country', 'Cupcake Trending'])"
   ]
  },
  {
   "cell_type": "code",
   "execution_count": 37,
   "metadata": {},
   "outputs": [
    {
     "data": {
      "text/html": [
       "<div>\n",
       "<style scoped>\n",
       "    .dataframe tbody tr th:only-of-type {\n",
       "        vertical-align: middle;\n",
       "    }\n",
       "\n",
       "    .dataframe tbody tr th {\n",
       "        vertical-align: top;\n",
       "    }\n",
       "\n",
       "    .dataframe thead th {\n",
       "        text-align: right;\n",
       "    }\n",
       "</style>\n",
       "<table border=\"1\" class=\"dataframe\">\n",
       "  <thead>\n",
       "    <tr style=\"text-align: right;\">\n",
       "      <th></th>\n",
       "      <th>Country</th>\n",
       "      <th>Cupcake Trending</th>\n",
       "    </tr>\n",
       "  </thead>\n",
       "  <tbody>\n",
       "    <tr>\n",
       "      <td>0</td>\n",
       "      <td>Category: All categories</td>\n",
       "      <td>NaN</td>\n",
       "    </tr>\n",
       "    <tr>\n",
       "      <td>1</td>\n",
       "      <td>Country</td>\n",
       "      <td>Cupcake: (1/1/04 - 11/1/19)</td>\n",
       "    </tr>\n",
       "    <tr>\n",
       "      <td>2</td>\n",
       "      <td>Falkland Islands (Islas Malvinas)</td>\n",
       "      <td>NaN</td>\n",
       "    </tr>\n",
       "    <tr>\n",
       "      <td>3</td>\n",
       "      <td>Brunei</td>\n",
       "      <td>NaN</td>\n",
       "    </tr>\n",
       "    <tr>\n",
       "      <td>4</td>\n",
       "      <td>Jersey</td>\n",
       "      <td>NaN</td>\n",
       "    </tr>\n",
       "  </tbody>\n",
       "</table>\n",
       "</div>"
      ],
      "text/plain": [
       "                             Country             Cupcake Trending\n",
       "0           Category: All categories                          NaN\n",
       "1                            Country  Cupcake: (1/1/04 - 11/1/19)\n",
       "2  Falkland Islands (Islas Malvinas)                          NaN\n",
       "3                             Brunei                          NaN\n",
       "4                             Jersey                          NaN"
      ]
     },
     "execution_count": 37,
     "metadata": {},
     "output_type": "execute_result"
    }
   ],
   "source": [
    "data.head()"
   ]
  },
  {
   "cell_type": "code",
   "execution_count": 50,
   "metadata": {},
   "outputs": [],
   "source": [
    "_ = data.drop(data.index[[0,1]], inplace=True)"
   ]
  },
  {
   "cell_type": "code",
   "execution_count": 51,
   "metadata": {},
   "outputs": [
    {
     "data": {
      "text/html": [
       "<div>\n",
       "<style scoped>\n",
       "    .dataframe tbody tr th:only-of-type {\n",
       "        vertical-align: middle;\n",
       "    }\n",
       "\n",
       "    .dataframe tbody tr th {\n",
       "        vertical-align: top;\n",
       "    }\n",
       "\n",
       "    .dataframe thead th {\n",
       "        text-align: right;\n",
       "    }\n",
       "</style>\n",
       "<table border=\"1\" class=\"dataframe\">\n",
       "  <thead>\n",
       "    <tr style=\"text-align: right;\">\n",
       "      <th></th>\n",
       "      <th>Country</th>\n",
       "      <th>Cupcake Trending</th>\n",
       "    </tr>\n",
       "  </thead>\n",
       "  <tbody>\n",
       "    <tr>\n",
       "      <td>2</td>\n",
       "      <td>Falkland Islands (Islas Malvinas)</td>\n",
       "      <td>0</td>\n",
       "    </tr>\n",
       "    <tr>\n",
       "      <td>3</td>\n",
       "      <td>Brunei</td>\n",
       "      <td>0</td>\n",
       "    </tr>\n",
       "    <tr>\n",
       "      <td>4</td>\n",
       "      <td>Jersey</td>\n",
       "      <td>0</td>\n",
       "    </tr>\n",
       "    <tr>\n",
       "      <td>5</td>\n",
       "      <td>Guernsey</td>\n",
       "      <td>0</td>\n",
       "    </tr>\n",
       "    <tr>\n",
       "      <td>6</td>\n",
       "      <td>Isle of Man</td>\n",
       "      <td>0</td>\n",
       "    </tr>\n",
       "  </tbody>\n",
       "</table>\n",
       "</div>"
      ],
      "text/plain": [
       "                             Country Cupcake Trending\n",
       "2  Falkland Islands (Islas Malvinas)                0\n",
       "3                             Brunei                0\n",
       "4                             Jersey                0\n",
       "5                           Guernsey                0\n",
       "6                        Isle of Man                0"
      ]
     },
     "execution_count": 51,
     "metadata": {},
     "output_type": "execute_result"
    }
   ],
   "source": [
    "data.head()"
   ]
  },
  {
   "cell_type": "code",
   "execution_count": 52,
   "metadata": {},
   "outputs": [],
   "source": [
    "_ = data.fillna(0, inplace=True)"
   ]
  },
  {
   "cell_type": "code",
   "execution_count": 57,
   "metadata": {
    "scrolled": true
   },
   "outputs": [
    {
     "data": {
      "image/png": "[encoded data removed]",
      "text/plain": [
       "<Figure size 360x360 with 1 Axes>"
      ]
     },
     "metadata": {
      "needs_background": "light"
     },
     "output_type": "display_data"
    }
   ],
   "source": [
    "sns.catplot(x=\"Country\", y=\"Cupcake Trending\", kind=\"swarm\", data=data);"
   ]
  },
  {
   "cell_type": "code",
   "execution_count": 62,
   "metadata": {},
   "outputs": [
    {
     "data": {
      "text/plain": [
       "Country             object\n",
       "Cupcake Trending    object\n",
       "dtype: object"
      ]
     },
     "execution_count": 62,
     "metadata": {},
     "output_type": "execute_result"
    }
   ],
   "source": [
    "data.dtypes"
   ]
  },
  {
   "cell_type": "code",
   "execution_count": 64,
   "metadata": {},
   "outputs": [
    {
     "name": "stdout",
     "output_type": "stream",
     "text": [
      "Country             object\n",
      "Cupcake Trending     int64\n",
      "dtype: object\n"
     ]
    }
   ],
   "source": [
    "data['Cupcake Trending'] = data['Cupcake Trending'].apply(pd.to_numeric) \n",
    "print(data.dtypes)"
   ]
  },
  {
   "cell_type": "code",
   "execution_count": 65,
   "metadata": {},
   "outputs": [
    {
     "data": {
      "text/plain": [
       "<matplotlib.axes._subplots.AxesSubplot at 0x24425c7c0c8>"
      ]
     },
     "execution_count": 65,
     "metadata": {},
     "output_type": "execute_result"
    },
    {
     "data": {
      "image/png": "[encoded data removed]",
      "text/plain": [
       "<Figure size 432x288 with 1 Axes>"
      ]
     },
     "metadata": {
      "needs_background": "light"
     },
     "output_type": "display_data"
    }
   ],
   "source": [
    "# histogram\n",
    "data[\"Cupcake Trending\"].plot.hist(bins=50)"
   ]
  },
  {
   "cell_type": "code",
   "execution_count": 66,
   "metadata": {},
   "outputs": [
    {
     "data": {
      "text/plain": [
       "<matplotlib.axes._subplots.AxesSubplot at 0x24426d2dbc8>"
      ]
     },
     "execution_count": 66,
     "metadata": {},
     "output_type": "execute_result"
    },
    {
     "data": {
      "image/png": "[encoded data removed]",
      "text/plain": [
       "<Figure size 432x288 with 1 Axes>"
      ]
     },
     "metadata": {
      "needs_background": "light"
     },
     "output_type": "display_data"
    }
   ],
   "source": [
    "# density plot\n",
    "data['Cupcake Trending'].plot.density()"
   ]
  },
  {
   "cell_type": "code",
   "execution_count": 67,
   "metadata": {},
   "outputs": [
    {
     "data": {
      "text/plain": [
       "<seaborn.axisgrid.FacetGrid at 0x24426d9c9c8>"
      ]
     },
     "execution_count": 67,
     "metadata": {},
     "output_type": "execute_result"
    },
    {
     "data": {
      "image/png": "[encoded data removed]",
      "text/plain": [
       "<Figure size 360x360 with 1 Axes>"
      ]
     },
     "metadata": {
      "needs_background": "light"
     },
     "output_type": "display_data"
    }
   ],
   "source": [
    "# line plot\n",
    "sns.relplot(x=\"Country\", y=\"Cupcake Trending\", kind=\"line\", data=data)"
   ]
  },
  {
   "cell_type": "code",
   "execution_count": null,
   "metadata": {},
   "outputs": [],
   "source": []
  }
 ],
 "metadata": {
  "kernelspec": {
   "display_name": "Python 3",
   "language": "python",
   "name": "python3"
  },
  "language_info": {
   "codemirror_mode": {
    "name": "ipython",
    "version": 3
   },
   "file_extension": ".py",
   "mimetype": "text/x-python",
   "name": "python",
   "nbconvert_exporter": "python",
   "pygments_lexer": "ipython3",
   "version": "3.7.4"
  }
 },
 "nbformat": 4,
 "nbformat_minor": 2
}
